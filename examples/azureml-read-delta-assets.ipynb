{
  "cells": [
    {
      "cell_type": "markdown",
      "metadata": {
        "nteract": {
          "transient": {
            "deleting": false
          }
        }
      },
      "source": [
        "# Working with data in delta format from OneLake in Azure Machine Learning"
      ]
    },
    {
      "cell_type": "markdown",
      "metadata": {
        "nteract": {
          "transient": {
            "deleting": false
          }
        }
      },
      "source": [
        "If you are planning to read data from OneLake in Azure Machine Learning, most of the time you would need to work with the MLtable data asset type. To work with MLtable, use the `mltable` and the `azureml-dataprep` packages:"
      ]
    },
    {
      "cell_type": "code",
      "execution_count": null,
      "metadata": {},
      "outputs": [],
      "source": [
        "%pip install -U mltable azureml-dataprep[pandas] --quiet"
      ]
    },
    {
      "cell_type": "markdown",
      "metadata": {
        "nteract": {
          "transient": {
            "deleting": false
          }
        }
      },
      "source": [
        "## Read data from OneLake in delta format using MLtable\n",
        "\n",
        "To read data from OnaLake, go to the asset or table you want to read and copy the ABFS path to it. Remember that delta also support Time Travel, which allows you to read the data at specific points in time. Use a timestamp to indicate that:"
      ]
    },
    {
      "cell_type": "code",
      "execution_count": 2,
      "metadata": {
        "gather": {
          "logged": 1691089829720
        },
        "jupyter": {
          "outputs_hidden": false,
          "source_hidden": false
        },
        "nteract": {
          "transient": {
            "deleting": false
          }
        }
      },
      "outputs": [],
      "source": [
        "import time\n",
        "\n",
        "delta_table_path = \"abfss://<GUID>@onelake.dfs.fabric.microsoft.com/<GUID>/Tables/phone_device\"\n",
        "timestamp_as_of = time.strftime('%Y-%m-%dT%H:%M:%SZ', time.gmtime())"
      ]
    },
    {
      "cell_type": "markdown",
      "metadata": {
        "nteract": {
          "transient": {
            "deleting": false
          }
        }
      },
      "source": [
        "Let's use this information to read the data into an MLtable:"
      ]
    },
    {
      "cell_type": "code",
      "execution_count": 3,
      "metadata": {
        "gather": {
          "logged": 1691089831320
        },
        "jupyter": {
          "outputs_hidden": false,
          "source_hidden": false
        },
        "nteract": {
          "transient": {
            "deleting": false
          }
        }
      },
      "outputs": [],
      "source": [
        "import mltable\n",
        "\n",
        "tbl = mltable.from_delta_lake(delta_table_uri=delta_table_path, timestamp_as_of=timestamp_as_of)"
      ]
    },
    {
      "cell_type": "markdown",
      "metadata": {
        "nteract": {
          "transient": {
            "deleting": false
          }
        }
      },
      "source": [
        "We can see if we can successfully read the data:"
      ]
    },
    {
      "cell_type": "code",
      "execution_count": 4,
      "metadata": {
        "gather": {
          "logged": 1691089835570
        },
        "jupyter": {
          "outputs_hidden": false,
          "source_hidden": false
        },
        "nteract": {
          "transient": {
            "deleting": false
          }
        }
      },
      "outputs": [
        {
          "name": "stdout",
          "output_type": "stream",
          "text": [
            "Resolving access token for scope \"https://storage.azure.com/.default\" using identity of type \"MANAGED\".\n",
            "Getting data access token with Assigned Identity (client_id=clientid) and endpoint type based on configuration\n"
          ]
        },
        {
          "data": {
            "text/html": [
              "<div>\n",
              "<style scoped>\n",
              "    .dataframe tbody tr th:only-of-type {\n",
              "        vertical-align: middle;\n",
              "    }\n",
              "\n",
              "    .dataframe tbody tr th {\n",
              "        vertical-align: top;\n",
              "    }\n",
              "\n",
              "    .dataframe thead th {\n",
              "        text-align: right;\n",
              "    }\n",
              "</style>\n",
              "<table border=\"1\" class=\"dataframe\">\n",
              "  <thead>\n",
              "    <tr style=\"text-align: right;\">\n",
              "      <th></th>\n",
              "      <th>brand</th>\n",
              "      <th>model</th>\n",
              "      <th>network_technology</th>\n",
              "      <th>2G_bands</th>\n",
              "      <th>3G_bands</th>\n",
              "      <th>4G_bands</th>\n",
              "      <th>network_speed</th>\n",
              "      <th>GPRS</th>\n",
              "      <th>EDGE</th>\n",
              "      <th>announced</th>\n",
              "      <th>...</th>\n",
              "      <th>bluetooth</th>\n",
              "      <th>GPS</th>\n",
              "      <th>NFC</th>\n",
              "      <th>radio</th>\n",
              "      <th>USB</th>\n",
              "      <th>sensors</th>\n",
              "      <th>battery</th>\n",
              "      <th>colors</th>\n",
              "      <th>approx_price_EUR</th>\n",
              "      <th>img_url</th>\n",
              "    </tr>\n",
              "  </thead>\n",
              "  <tbody>\n",
              "    <tr>\n",
              "      <th>0</th>\n",
              "      <td>Asus</td>\n",
              "      <td>Google Nexus 7 (2013)</td>\n",
              "      <td>GSM / HSPA / LTE</td>\n",
              "      <td>GSM 850 / 900 / 1800 / 1900 - all versions</td>\n",
              "      <td>HSDPA 850 / 900 / 1700 / 1900 / 2100</td>\n",
              "      <td>LTE band 1(2100)| 2(1900)| 3(1800)| 4(1700/210...</td>\n",
              "      <td>HSPA  LTE</td>\n",
              "      <td>Yes</td>\n",
              "      <td>Yes</td>\n",
              "      <td>2013  July</td>\n",
              "      <td>...</td>\n",
              "      <td>Wi-Fi 802.11 a/b/g/n| dual-band</td>\n",
              "      <td>4.0| A2DP| LE</td>\n",
              "      <td>Yes with A-GPS</td>\n",
              "      <td>Yes</td>\n",
              "      <td>No</td>\n",
              "      <td>microUSB 2.0 (SlimPort)</td>\n",
              "      <td>Accelerometer| gyro| proximity| compass</td>\n",
              "      <td>Non-removable Li-Ion 3950 mAh battery</td>\n",
              "      <td>Black</td>\n",
              "      <td>230</td>\n",
              "    </tr>\n",
              "    <tr>\n",
              "      <th>1</th>\n",
              "      <td>HTC</td>\n",
              "      <td>10 Lifestyle</td>\n",
              "      <td>GSM / HSPA / LTE</td>\n",
              "      <td>GSM 850 / 900 / 1800 / 1900</td>\n",
              "      <td>HSDPA 850 / 900 / 1900 / 2100</td>\n",
              "      <td>LTE band 1(2100)| 3(1800)| 5(850)| 7(2600)| 8(...</td>\n",
              "      <td>HSPA  LTE Cat6 300/50 Mbps</td>\n",
              "      <td>Yes</td>\n",
              "      <td>Yes</td>\n",
              "      <td>2016  April</td>\n",
              "      <td>...</td>\n",
              "      <td>4.2| A2DP| aptX</td>\n",
              "      <td>Yes with A-GPS GLONASS/ BDS (region dependent)</td>\n",
              "      <td>Yes</td>\n",
              "      <td>No</td>\n",
              "      <td>2.0| Type-C 1.0 reversible connector</td>\n",
              "      <td>Fingerprint (front-mounted)| accelerometer| gy...</td>\n",
              "      <td>Non-removable Li-Ion 3000 mAh battery</td>\n",
              "      <td>Carbon Gray| Topaz Gold| Glacier Silver</td>\n",
              "      <td>420</td>\n",
              "      <td>http://cdn2.gsmarena.com/vv/bigpic/htc-10-life...</td>\n",
              "    </tr>\n",
              "    <tr>\n",
              "      <th>2</th>\n",
              "      <td>HTC</td>\n",
              "      <td>10</td>\n",
              "      <td>GSM / HSPA / LTE</td>\n",
              "      <td>GSM 850 / 900 / 1800 / 1900</td>\n",
              "      <td>HSDPA 850 / 900 / 1900 / 2100</td>\n",
              "      <td>LTE band 1(2100)| 3(1800)| 5(850)| 7(2600)| 8(...</td>\n",
              "      <td>HSPA  LTE-A (3CA) Cat9 450/50 Mbps</td>\n",
              "      <td>Yes</td>\n",
              "      <td>Yes</td>\n",
              "      <td>2016  April</td>\n",
              "      <td>...</td>\n",
              "      <td>4.2| A2DP| aptX</td>\n",
              "      <td>Yes with A-GPS GLONASS/ BDS (region dependent)</td>\n",
              "      <td>Yes</td>\n",
              "      <td>No</td>\n",
              "      <td>3.1| Type-C 1.0 reversible connector</td>\n",
              "      <td>Fingerprint (front-mounted)| accelerometer| gy...</td>\n",
              "      <td>Non-removable Li-Ion 3000 mAh battery</td>\n",
              "      <td>Carbon Gray| Topaz Gold| Glacier Silver| Camel...</td>\n",
              "      <td>500</td>\n",
              "      <td>http://cdn2.gsmarena.com/vv/bigpic/htc-10-r.jpg</td>\n",
              "    </tr>\n",
              "    <tr>\n",
              "      <th>3</th>\n",
              "      <td>OnePlus</td>\n",
              "      <td>One</td>\n",
              "      <td>GSM / HSPA / LTE</td>\n",
              "      <td>GSM 850 / 900 / 1800 / 1900</td>\n",
              "      <td>HSDPA 850 / 900 / 1700 / 1900 / 2100</td>\n",
              "      <td>LTE band 1(2100)| 3(1800)| 4(1700/2100)| 7(260...</td>\n",
              "      <td>HSPA 42.2/5.76 Mbps  LTE Cat4 150/50 Mbps</td>\n",
              "      <td>Yes</td>\n",
              "      <td>Yes</td>\n",
              "      <td>2014  April</td>\n",
              "      <td>...</td>\n",
              "      <td>4.1| A2DP</td>\n",
              "      <td>Yes with A-GPS GLONASS</td>\n",
              "      <td>Yes</td>\n",
              "      <td>No</td>\n",
              "      <td>microUSB 2.0| USB Host</td>\n",
              "      <td>Accelerometer| gyro| proximity| compass</td>\n",
              "      <td>Non-removable Li-Po 3100 mAh battery</td>\n",
              "      <td>Silk White| Sandstone Black</td>\n",
              "      <td>250</td>\n",
              "      <td>http://cdn2.gsmarena.com/vv/bigpic/oneplus-one...</td>\n",
              "    </tr>\n",
              "    <tr>\n",
              "      <th>4</th>\n",
              "      <td>Samsung</td>\n",
              "      <td>Galaxy Tab A 9.7</td>\n",
              "      <td>GSM / HSPA / LTE</td>\n",
              "      <td>GSM 850 / 900 / 1800 / 1900</td>\n",
              "      <td>HSDPA 850 / 900 / 1900 / 2100</td>\n",
              "      <td>LTE band 1(2100)| 3(1800)| 5(850)| 7(2600)| 8(...</td>\n",
              "      <td>HSPA  LTE Cat4 150/50 Mbps</td>\n",
              "      <td>Yes</td>\n",
              "      <td>Yes</td>\n",
              "      <td>2015  March</td>\n",
              "      <td>...</td>\n",
              "      <td>Wi-Fi 802.11 a/b/g/n| dual-band| WiFi Direct| ...</td>\n",
              "      <td>4.1| A2DP</td>\n",
              "      <td>Yes with A-GPS GLONASS</td>\n",
              "      <td>None</td>\n",
              "      <td>No</td>\n",
              "      <td>microUSB 2.0</td>\n",
              "      <td>Accelerometer</td>\n",
              "      <td>Non-removable Li-Ion 6000 mAh battery</td>\n",
              "      <td>Smoky Titanium| Smoky Blue| White</td>\n",
              "      <td>250</td>\n",
              "    </tr>\n",
              "    <tr>\n",
              "      <th>...</th>\n",
              "      <td>...</td>\n",
              "      <td>...</td>\n",
              "      <td>...</td>\n",
              "      <td>...</td>\n",
              "      <td>...</td>\n",
              "      <td>...</td>\n",
              "      <td>...</td>\n",
              "      <td>...</td>\n",
              "      <td>...</td>\n",
              "      <td>...</td>\n",
              "      <td>...</td>\n",
              "      <td>...</td>\n",
              "      <td>...</td>\n",
              "      <td>...</td>\n",
              "      <td>...</td>\n",
              "      <td>...</td>\n",
              "      <td>...</td>\n",
              "      <td>...</td>\n",
              "      <td>...</td>\n",
              "      <td>...</td>\n",
              "      <td>...</td>\n",
              "    </tr>\n",
              "    <tr>\n",
              "      <th>8626</th>\n",
              "      <td>Sagem</td>\n",
              "      <td>MC 950</td>\n",
              "      <td>GSM</td>\n",
              "      <td>GSM 900 / 1800</td>\n",
              "      <td>None</td>\n",
              "      <td>None</td>\n",
              "      <td>None</td>\n",
              "      <td>No</td>\n",
              "      <td>No</td>\n",
              "      <td>2000</td>\n",
              "      <td>...</td>\n",
              "      <td>No</td>\n",
              "      <td>No</td>\n",
              "      <td>None</td>\n",
              "      <td>No</td>\n",
              "      <td>None</td>\n",
              "      <td>None</td>\n",
              "      <td>Removable Li-Ion battery</td>\n",
              "      <td>None</td>\n",
              "      <td>None</td>\n",
              "      <td>http://cdn2.gsmarena.com/vv/bigpic/samc950b.gif</td>\n",
              "    </tr>\n",
              "    <tr>\n",
              "      <th>8627</th>\n",
              "      <td>Sagem</td>\n",
              "      <td>MC 959</td>\n",
              "      <td>GSM</td>\n",
              "      <td>GSM 900 / 1800</td>\n",
              "      <td>None</td>\n",
              "      <td>None</td>\n",
              "      <td>None</td>\n",
              "      <td>No</td>\n",
              "      <td>No</td>\n",
              "      <td>2000</td>\n",
              "      <td>...</td>\n",
              "      <td>No</td>\n",
              "      <td>No</td>\n",
              "      <td>None</td>\n",
              "      <td>No</td>\n",
              "      <td>None</td>\n",
              "      <td>None</td>\n",
              "      <td>Removable Li-Ion battery</td>\n",
              "      <td>None</td>\n",
              "      <td>None</td>\n",
              "      <td>http://cdn2.gsmarena.com/vv/bigpic/samc959b.gif</td>\n",
              "    </tr>\n",
              "    <tr>\n",
              "      <th>8628</th>\n",
              "      <td>Sagem</td>\n",
              "      <td>MC 940</td>\n",
              "      <td>GSM</td>\n",
              "      <td>GSM 900 / 1800</td>\n",
              "      <td>None</td>\n",
              "      <td>None</td>\n",
              "      <td>None</td>\n",
              "      <td>No</td>\n",
              "      <td>No</td>\n",
              "      <td>2000</td>\n",
              "      <td>...</td>\n",
              "      <td>No</td>\n",
              "      <td>No</td>\n",
              "      <td>None</td>\n",
              "      <td>No</td>\n",
              "      <td>None</td>\n",
              "      <td>None</td>\n",
              "      <td>Removable Li-Ion battery</td>\n",
              "      <td>None</td>\n",
              "      <td>None</td>\n",
              "      <td>http://cdn2.gsmarena.com/vv/bigpic/samc940b.gif</td>\n",
              "    </tr>\n",
              "    <tr>\n",
              "      <th>8629</th>\n",
              "      <td>Sagem</td>\n",
              "      <td>MC 932</td>\n",
              "      <td>GSM</td>\n",
              "      <td>GSM 900 / 1800</td>\n",
              "      <td>None</td>\n",
              "      <td>None</td>\n",
              "      <td>None</td>\n",
              "      <td>No</td>\n",
              "      <td>No</td>\n",
              "      <td>1999</td>\n",
              "      <td>...</td>\n",
              "      <td>No</td>\n",
              "      <td>No</td>\n",
              "      <td>None</td>\n",
              "      <td>No</td>\n",
              "      <td>None</td>\n",
              "      <td>None</td>\n",
              "      <td>Removable Li-Ion battery</td>\n",
              "      <td>None</td>\n",
              "      <td>None</td>\n",
              "      <td>http://cdn2.gsmarena.com/vv/bigpic/samc932b.gif</td>\n",
              "    </tr>\n",
              "    <tr>\n",
              "      <th>8630</th>\n",
              "      <td>Sagem</td>\n",
              "      <td>MC 850</td>\n",
              "      <td>GSM</td>\n",
              "      <td>GSM 900 / 1800</td>\n",
              "      <td>None</td>\n",
              "      <td>None</td>\n",
              "      <td>None</td>\n",
              "      <td>No</td>\n",
              "      <td>No</td>\n",
              "      <td>1998</td>\n",
              "      <td>...</td>\n",
              "      <td>No</td>\n",
              "      <td>No</td>\n",
              "      <td>None</td>\n",
              "      <td>No</td>\n",
              "      <td>None</td>\n",
              "      <td>None</td>\n",
              "      <td>Removable Li-Ion battery</td>\n",
              "      <td>None</td>\n",
              "      <td>None</td>\n",
              "      <td>http://cdn2.gsmarena.com/vv/bigpic/samc850b.gif</td>\n",
              "    </tr>\n",
              "  </tbody>\n",
              "</table>\n",
              "<p>8631 rows × 40 columns</p>\n",
              "</div>"
            ],
            "text/plain": [
              "        brand                  model network_technology  \\\n",
              "0        Asus  Google Nexus 7 (2013)   GSM / HSPA / LTE   \n",
              "1         HTC           10 Lifestyle   GSM / HSPA / LTE   \n",
              "2         HTC                     10   GSM / HSPA / LTE   \n",
              "3     OnePlus                    One   GSM / HSPA / LTE   \n",
              "4     Samsung       Galaxy Tab A 9.7   GSM / HSPA / LTE   \n",
              "...       ...                    ...                ...   \n",
              "8626    Sagem                 MC 950                GSM   \n",
              "8627    Sagem                 MC 959                GSM   \n",
              "8628    Sagem                 MC 940                GSM   \n",
              "8629    Sagem                 MC 932                GSM   \n",
              "8630    Sagem                 MC 850                GSM   \n",
              "\n",
              "                                        2G_bands  \\\n",
              "0     GSM 850 / 900 / 1800 / 1900 - all versions   \n",
              "1                   GSM 850 / 900 / 1800 / 1900    \n",
              "2                   GSM 850 / 900 / 1800 / 1900    \n",
              "3                   GSM 850 / 900 / 1800 / 1900    \n",
              "4                   GSM 850 / 900 / 1800 / 1900    \n",
              "...                                          ...   \n",
              "8626                             GSM 900 / 1800    \n",
              "8627                             GSM 900 / 1800    \n",
              "8628                             GSM 900 / 1800    \n",
              "8629                             GSM 900 / 1800    \n",
              "8630                             GSM 900 / 1800    \n",
              "\n",
              "                                   3G_bands  \\\n",
              "0     HSDPA 850 / 900 / 1700 / 1900 / 2100    \n",
              "1            HSDPA 850 / 900 / 1900 / 2100    \n",
              "2            HSDPA 850 / 900 / 1900 / 2100    \n",
              "3     HSDPA 850 / 900 / 1700 / 1900 / 2100    \n",
              "4            HSDPA 850 / 900 / 1900 / 2100    \n",
              "...                                     ...   \n",
              "8626                                   None   \n",
              "8627                                   None   \n",
              "8628                                   None   \n",
              "8629                                   None   \n",
              "8630                                   None   \n",
              "\n",
              "                                               4G_bands  \\\n",
              "0     LTE band 1(2100)| 2(1900)| 3(1800)| 4(1700/210...   \n",
              "1     LTE band 1(2100)| 3(1800)| 5(850)| 7(2600)| 8(...   \n",
              "2     LTE band 1(2100)| 3(1800)| 5(850)| 7(2600)| 8(...   \n",
              "3     LTE band 1(2100)| 3(1800)| 4(1700/2100)| 7(260...   \n",
              "4     LTE band 1(2100)| 3(1800)| 5(850)| 7(2600)| 8(...   \n",
              "...                                                 ...   \n",
              "8626                                               None   \n",
              "8627                                               None   \n",
              "8628                                               None   \n",
              "8629                                               None   \n",
              "8630                                               None   \n",
              "\n",
              "                                  network_speed GPRS EDGE    announced  ...  \\\n",
              "0                                     HSPA  LTE  Yes  Yes   2013  July  ...   \n",
              "1                    HSPA  LTE Cat6 300/50 Mbps  Yes  Yes  2016  April  ...   \n",
              "2            HSPA  LTE-A (3CA) Cat9 450/50 Mbps  Yes  Yes  2016  April  ...   \n",
              "3     HSPA 42.2/5.76 Mbps  LTE Cat4 150/50 Mbps  Yes  Yes  2014  April  ...   \n",
              "4                    HSPA  LTE Cat4 150/50 Mbps  Yes  Yes  2015  March  ...   \n",
              "...                                         ...  ...  ...          ...  ...   \n",
              "8626                                       None   No   No         2000  ...   \n",
              "8627                                       None   No   No         2000  ...   \n",
              "8628                                       None   No   No         2000  ...   \n",
              "8629                                       None   No   No         1999  ...   \n",
              "8630                                       None   No   No         1998  ...   \n",
              "\n",
              "                                              bluetooth  \\\n",
              "0                       Wi-Fi 802.11 a/b/g/n| dual-band   \n",
              "1                                       4.2| A2DP| aptX   \n",
              "2                                       4.2| A2DP| aptX   \n",
              "3                                             4.1| A2DP   \n",
              "4     Wi-Fi 802.11 a/b/g/n| dual-band| WiFi Direct| ...   \n",
              "...                                                 ...   \n",
              "8626                                                 No   \n",
              "8627                                                 No   \n",
              "8628                                                 No   \n",
              "8629                                                 No   \n",
              "8630                                                 No   \n",
              "\n",
              "                                                 GPS                     NFC  \\\n",
              "0                                      4.0| A2DP| LE          Yes with A-GPS   \n",
              "1     Yes with A-GPS GLONASS/ BDS (region dependent)                     Yes   \n",
              "2     Yes with A-GPS GLONASS/ BDS (region dependent)                     Yes   \n",
              "3                             Yes with A-GPS GLONASS                     Yes   \n",
              "4                                          4.1| A2DP  Yes with A-GPS GLONASS   \n",
              "...                                              ...                     ...   \n",
              "8626                                              No                    None   \n",
              "8627                                              No                    None   \n",
              "8628                                              No                    None   \n",
              "8629                                              No                    None   \n",
              "8630                                              No                    None   \n",
              "\n",
              "     radio                                   USB  \\\n",
              "0      Yes                                    No   \n",
              "1       No  2.0| Type-C 1.0 reversible connector   \n",
              "2       No  3.1| Type-C 1.0 reversible connector   \n",
              "3       No                microUSB 2.0| USB Host   \n",
              "4     None                                    No   \n",
              "...    ...                                   ...   \n",
              "8626    No                                  None   \n",
              "8627    No                                  None   \n",
              "8628    No                                  None   \n",
              "8629    No                                  None   \n",
              "8630    No                                  None   \n",
              "\n",
              "                                                sensors  \\\n",
              "0                               microUSB 2.0 (SlimPort)   \n",
              "1     Fingerprint (front-mounted)| accelerometer| gy...   \n",
              "2     Fingerprint (front-mounted)| accelerometer| gy...   \n",
              "3               Accelerometer| gyro| proximity| compass   \n",
              "4                                          microUSB 2.0   \n",
              "...                                                 ...   \n",
              "8626                                               None   \n",
              "8627                                               None   \n",
              "8628                                               None   \n",
              "8629                                               None   \n",
              "8630                                               None   \n",
              "\n",
              "                                      battery  \\\n",
              "0     Accelerometer| gyro| proximity| compass   \n",
              "1       Non-removable Li-Ion 3000 mAh battery   \n",
              "2       Non-removable Li-Ion 3000 mAh battery   \n",
              "3        Non-removable Li-Po 3100 mAh battery   \n",
              "4                               Accelerometer   \n",
              "...                                       ...   \n",
              "8626                 Removable Li-Ion battery   \n",
              "8627                 Removable Li-Ion battery   \n",
              "8628                 Removable Li-Ion battery   \n",
              "8629                 Removable Li-Ion battery   \n",
              "8630                 Removable Li-Ion battery   \n",
              "\n",
              "                                                 colors  \\\n",
              "0                 Non-removable Li-Ion 3950 mAh battery   \n",
              "1               Carbon Gray| Topaz Gold| Glacier Silver   \n",
              "2     Carbon Gray| Topaz Gold| Glacier Silver| Camel...   \n",
              "3                           Silk White| Sandstone Black   \n",
              "4                 Non-removable Li-Ion 6000 mAh battery   \n",
              "...                                                 ...   \n",
              "8626                                               None   \n",
              "8627                                               None   \n",
              "8628                                               None   \n",
              "8629                                               None   \n",
              "8630                                               None   \n",
              "\n",
              "                       approx_price_EUR  \\\n",
              "0                                 Black   \n",
              "1                                   420   \n",
              "2                                   500   \n",
              "3                                   250   \n",
              "4     Smoky Titanium| Smoky Blue| White   \n",
              "...                                 ...   \n",
              "8626                               None   \n",
              "8627                               None   \n",
              "8628                               None   \n",
              "8629                               None   \n",
              "8630                               None   \n",
              "\n",
              "                                                img_url  \n",
              "0                                                   230  \n",
              "1     http://cdn2.gsmarena.com/vv/bigpic/htc-10-life...  \n",
              "2       http://cdn2.gsmarena.com/vv/bigpic/htc-10-r.jpg  \n",
              "3     http://cdn2.gsmarena.com/vv/bigpic/oneplus-one...  \n",
              "4                                                   250  \n",
              "...                                                 ...  \n",
              "8626    http://cdn2.gsmarena.com/vv/bigpic/samc950b.gif  \n",
              "8627    http://cdn2.gsmarena.com/vv/bigpic/samc959b.gif  \n",
              "8628    http://cdn2.gsmarena.com/vv/bigpic/samc940b.gif  \n",
              "8629    http://cdn2.gsmarena.com/vv/bigpic/samc932b.gif  \n",
              "8630    http://cdn2.gsmarena.com/vv/bigpic/samc850b.gif  \n",
              "\n",
              "[8631 rows x 40 columns]"
            ]
          },
          "execution_count": 4,
          "metadata": {},
          "output_type": "execute_result"
        }
      ],
      "source": [
        "tbl.to_pandas_dataframe()"
      ]
    },
    {
      "cell_type": "markdown",
      "metadata": {
        "nteract": {
          "transient": {
            "deleting": false
          }
        }
      },
      "source": [
        "## Register the data asset\n",
        "\n",
        "MLtable can be registered as a data asset in Azure Machine Learning. Then, you can plug those assets to any pipeline you have. To create an MLtable adata asset, we need to save the file definition\n",
        "\n",
        "Notice we are not saving a copy of the data, we are only saving an MLtable file with the definition of where the data is and how to read it."
      ]
    },
    {
      "cell_type": "code",
      "execution_count": 5,
      "metadata": {
        "gather": {
          "logged": 1691089838949
        },
        "jupyter": {
          "outputs_hidden": false,
          "source_hidden": false
        },
        "nteract": {
          "transient": {
            "deleting": false
          }
        }
      },
      "outputs": [],
      "source": [
        "tbl.save(\"phone-device\")"
      ]
    },
    {
      "cell_type": "markdown",
      "metadata": {
        "nteract": {
          "transient": {
            "deleting": false
          }
        }
      },
      "source": [
        "Once saved, we can now use it to register the asset. "
      ]
    },
    {
      "cell_type": "code",
      "execution_count": 6,
      "metadata": {
        "gather": {
          "logged": 1691089842584
        },
        "jupyter": {
          "outputs_hidden": false,
          "source_hidden": false
        },
        "nteract": {
          "transient": {
            "deleting": false
          }
        }
      },
      "outputs": [],
      "source": [
        "from azure.ai.ml.entities import Data\n",
        "from azure.ai.ml.constants import AssetTypes\n",
        "\n",
        "VERSION = time.strftime(\"%Y-%m-%d-%H%M%S\", time.gmtime())\n",
        "phone_device_asset = Data(\n",
        "    path=\"phone-device\",\n",
        "    type=AssetTypes.MLTABLE,\n",
        "    description=\"A dataset containing multiple mobile phone information about their hardware and capabilities.\",\n",
        "    name=\"phone-device\",\n",
        "    version=VERSION,\n",
        ")"
      ]
    },
    {
      "cell_type": "markdown",
      "metadata": {
        "nteract": {
          "transient": {
            "deleting": false
          }
        }
      },
      "source": [
        "> Pay attention about how `version` is indicated. Azure Machine Learning supports assigning any type of label to a version. In this case, we are associated to it a label with the point in time at which the delta table is pointing to. This ensure that when we see the version `2023-08-02` of the data asset, we know it provides data as what it was at that time.\n",
        "> This feature allows reproducibility of results, which is paramount in an ML workload."
      ]
    },
    {
      "cell_type": "markdown",
      "metadata": {
        "nteract": {
          "transient": {
            "deleting": false
          }
        }
      },
      "source": [
        "Let's first create an Azure Machine Learning workspace client:"
      ]
    },
    {
      "cell_type": "code",
      "execution_count": 7,
      "metadata": {
        "gather": {
          "logged": 1691089845421
        },
        "jupyter": {
          "outputs_hidden": false,
          "source_hidden": false
        },
        "nteract": {
          "transient": {
            "deleting": false
          }
        }
      },
      "outputs": [
        {
          "name": "stderr",
          "output_type": "stream",
          "text": [
            "Found the config file in: /config.json\n"
          ]
        }
      ],
      "source": [
        "from azure.ai.ml import MLClient\n",
        "from azure.identity import DefaultAzureCredential\n",
        "\n",
        "ml_client = MLClient.from_config(DefaultAzureCredential())"
      ]
    },
    {
      "cell_type": "markdown",
      "metadata": {
        "nteract": {
          "transient": {
            "deleting": false
          }
        }
      },
      "source": [
        "Now, we can register the asset:"
      ]
    },
    {
      "cell_type": "code",
      "execution_count": 8,
      "metadata": {
        "gather": {
          "logged": 1691089848609
        },
        "jupyter": {
          "outputs_hidden": false,
          "source_hidden": false
        },
        "nteract": {
          "transient": {
            "deleting": false
          }
        }
      },
      "outputs": [
        {
          "name": "stderr",
          "output_type": "stream",
          "text": [
            "\r\u001b[32mUploading phone-device (0.0 MBs):   0%|          | 0/597 [00:00<?, ?it/s]\r\u001b[32mUploading phone-device (0.0 MBs): 100%|██████████| 597/597 [00:00<00:00, 8381.14it/s]\n",
            "\u001b[39m\n",
            "\n"
          ]
        }
      ],
      "source": [
        "_ = ml_client.data.create_or_update(phone_device_asset)"
      ]
    },
    {
      "cell_type": "markdown",
      "metadata": {
        "nteract": {
          "transient": {
            "deleting": false
          }
        }
      },
      "source": [
        "## Consuming data assets from notebooks\n",
        "\n",
        "Once the data is registered as an asset, you can use it as any data asset in Azure Machine Learning, including in notebooks:"
      ]
    },
    {
      "cell_type": "code",
      "execution_count": 9,
      "metadata": {
        "gather": {
          "logged": 1691089858704
        },
        "jupyter": {
          "outputs_hidden": false,
          "source_hidden": false
        },
        "nteract": {
          "transient": {
            "deleting": false
          }
        }
      },
      "outputs": [],
      "source": [
        "data_asset = ml_client.data.get(name=\"phone-device\", label=\"latest\")"
      ]
    },
    {
      "cell_type": "markdown",
      "metadata": {
        "nteract": {
          "transient": {
            "deleting": false
          }
        }
      },
      "source": [
        "> We are querying here the lat known version:"
      ]
    },
    {
      "cell_type": "markdown",
      "metadata": {
        "nteract": {
          "transient": {
            "deleting": false
          }
        }
      },
      "source": [
        "Notice how `mltable` library can access resources directly from the ID:"
      ]
    },
    {
      "cell_type": "code",
      "execution_count": 10,
      "metadata": {
        "gather": {
          "logged": 1691089863916
        },
        "jupyter": {
          "outputs_hidden": false,
          "source_hidden": false
        },
        "nteract": {
          "transient": {
            "deleting": false
          }
        }
      },
      "outputs": [],
      "source": [
        "tbl_asset = mltable.load(f\"azureml:/{data_asset.id}\")"
      ]
    },
    {
      "cell_type": "markdown",
      "metadata": {
        "nteract": {
          "transient": {
            "deleting": false
          }
        }
      },
      "source": [
        "Let's check we can read the data:"
      ]
    },
    {
      "cell_type": "code",
      "execution_count": 11,
      "metadata": {
        "gather": {
          "logged": 1691089867213
        },
        "jupyter": {
          "outputs_hidden": false,
          "source_hidden": false
        },
        "nteract": {
          "transient": {
            "deleting": false
          }
        }
      },
      "outputs": [
        {
          "data": {
            "text/html": [
              "<div>\n",
              "<style scoped>\n",
              "    .dataframe tbody tr th:only-of-type {\n",
              "        vertical-align: middle;\n",
              "    }\n",
              "\n",
              "    .dataframe tbody tr th {\n",
              "        vertical-align: top;\n",
              "    }\n",
              "\n",
              "    .dataframe thead th {\n",
              "        text-align: right;\n",
              "    }\n",
              "</style>\n",
              "<table border=\"1\" class=\"dataframe\">\n",
              "  <thead>\n",
              "    <tr style=\"text-align: right;\">\n",
              "      <th></th>\n",
              "      <th>brand</th>\n",
              "      <th>model</th>\n",
              "      <th>network_technology</th>\n",
              "      <th>2G_bands</th>\n",
              "      <th>3G_bands</th>\n",
              "      <th>4G_bands</th>\n",
              "      <th>network_speed</th>\n",
              "      <th>GPRS</th>\n",
              "      <th>EDGE</th>\n",
              "      <th>announced</th>\n",
              "      <th>...</th>\n",
              "      <th>bluetooth</th>\n",
              "      <th>GPS</th>\n",
              "      <th>NFC</th>\n",
              "      <th>radio</th>\n",
              "      <th>USB</th>\n",
              "      <th>sensors</th>\n",
              "      <th>battery</th>\n",
              "      <th>colors</th>\n",
              "      <th>approx_price_EUR</th>\n",
              "      <th>img_url</th>\n",
              "    </tr>\n",
              "  </thead>\n",
              "  <tbody>\n",
              "    <tr>\n",
              "      <th>0</th>\n",
              "      <td>Asus</td>\n",
              "      <td>Google Nexus 7 (2013)</td>\n",
              "      <td>GSM / HSPA / LTE</td>\n",
              "      <td>GSM 850 / 900 / 1800 / 1900 - all versions</td>\n",
              "      <td>HSDPA 850 / 900 / 1700 / 1900 / 2100</td>\n",
              "      <td>LTE band 1(2100)| 2(1900)| 3(1800)| 4(1700/210...</td>\n",
              "      <td>HSPA  LTE</td>\n",
              "      <td>Yes</td>\n",
              "      <td>Yes</td>\n",
              "      <td>2013  July</td>\n",
              "      <td>...</td>\n",
              "      <td>Wi-Fi 802.11 a/b/g/n| dual-band</td>\n",
              "      <td>4.0| A2DP| LE</td>\n",
              "      <td>Yes with A-GPS</td>\n",
              "      <td>Yes</td>\n",
              "      <td>No</td>\n",
              "      <td>microUSB 2.0 (SlimPort)</td>\n",
              "      <td>Accelerometer| gyro| proximity| compass</td>\n",
              "      <td>Non-removable Li-Ion 3950 mAh battery</td>\n",
              "      <td>Black</td>\n",
              "      <td>230</td>\n",
              "    </tr>\n",
              "    <tr>\n",
              "      <th>1</th>\n",
              "      <td>HTC</td>\n",
              "      <td>10 Lifestyle</td>\n",
              "      <td>GSM / HSPA / LTE</td>\n",
              "      <td>GSM 850 / 900 / 1800 / 1900</td>\n",
              "      <td>HSDPA 850 / 900 / 1900 / 2100</td>\n",
              "      <td>LTE band 1(2100)| 3(1800)| 5(850)| 7(2600)| 8(...</td>\n",
              "      <td>HSPA  LTE Cat6 300/50 Mbps</td>\n",
              "      <td>Yes</td>\n",
              "      <td>Yes</td>\n",
              "      <td>2016  April</td>\n",
              "      <td>...</td>\n",
              "      <td>4.2| A2DP| aptX</td>\n",
              "      <td>Yes with A-GPS GLONASS/ BDS (region dependent)</td>\n",
              "      <td>Yes</td>\n",
              "      <td>No</td>\n",
              "      <td>2.0| Type-C 1.0 reversible connector</td>\n",
              "      <td>Fingerprint (front-mounted)| accelerometer| gy...</td>\n",
              "      <td>Non-removable Li-Ion 3000 mAh battery</td>\n",
              "      <td>Carbon Gray| Topaz Gold| Glacier Silver</td>\n",
              "      <td>420</td>\n",
              "      <td>http://cdn2.gsmarena.com/vv/bigpic/htc-10-life...</td>\n",
              "    </tr>\n",
              "    <tr>\n",
              "      <th>2</th>\n",
              "      <td>HTC</td>\n",
              "      <td>10</td>\n",
              "      <td>GSM / HSPA / LTE</td>\n",
              "      <td>GSM 850 / 900 / 1800 / 1900</td>\n",
              "      <td>HSDPA 850 / 900 / 1900 / 2100</td>\n",
              "      <td>LTE band 1(2100)| 3(1800)| 5(850)| 7(2600)| 8(...</td>\n",
              "      <td>HSPA  LTE-A (3CA) Cat9 450/50 Mbps</td>\n",
              "      <td>Yes</td>\n",
              "      <td>Yes</td>\n",
              "      <td>2016  April</td>\n",
              "      <td>...</td>\n",
              "      <td>4.2| A2DP| aptX</td>\n",
              "      <td>Yes with A-GPS GLONASS/ BDS (region dependent)</td>\n",
              "      <td>Yes</td>\n",
              "      <td>No</td>\n",
              "      <td>3.1| Type-C 1.0 reversible connector</td>\n",
              "      <td>Fingerprint (front-mounted)| accelerometer| gy...</td>\n",
              "      <td>Non-removable Li-Ion 3000 mAh battery</td>\n",
              "      <td>Carbon Gray| Topaz Gold| Glacier Silver| Camel...</td>\n",
              "      <td>500</td>\n",
              "      <td>http://cdn2.gsmarena.com/vv/bigpic/htc-10-r.jpg</td>\n",
              "    </tr>\n",
              "    <tr>\n",
              "      <th>3</th>\n",
              "      <td>OnePlus</td>\n",
              "      <td>One</td>\n",
              "      <td>GSM / HSPA / LTE</td>\n",
              "      <td>GSM 850 / 900 / 1800 / 1900</td>\n",
              "      <td>HSDPA 850 / 900 / 1700 / 1900 / 2100</td>\n",
              "      <td>LTE band 1(2100)| 3(1800)| 4(1700/2100)| 7(260...</td>\n",
              "      <td>HSPA 42.2/5.76 Mbps  LTE Cat4 150/50 Mbps</td>\n",
              "      <td>Yes</td>\n",
              "      <td>Yes</td>\n",
              "      <td>2014  April</td>\n",
              "      <td>...</td>\n",
              "      <td>4.1| A2DP</td>\n",
              "      <td>Yes with A-GPS GLONASS</td>\n",
              "      <td>Yes</td>\n",
              "      <td>No</td>\n",
              "      <td>microUSB 2.0| USB Host</td>\n",
              "      <td>Accelerometer| gyro| proximity| compass</td>\n",
              "      <td>Non-removable Li-Po 3100 mAh battery</td>\n",
              "      <td>Silk White| Sandstone Black</td>\n",
              "      <td>250</td>\n",
              "      <td>http://cdn2.gsmarena.com/vv/bigpic/oneplus-one...</td>\n",
              "    </tr>\n",
              "    <tr>\n",
              "      <th>4</th>\n",
              "      <td>Samsung</td>\n",
              "      <td>Galaxy Tab A 9.7</td>\n",
              "      <td>GSM / HSPA / LTE</td>\n",
              "      <td>GSM 850 / 900 / 1800 / 1900</td>\n",
              "      <td>HSDPA 850 / 900 / 1900 / 2100</td>\n",
              "      <td>LTE band 1(2100)| 3(1800)| 5(850)| 7(2600)| 8(...</td>\n",
              "      <td>HSPA  LTE Cat4 150/50 Mbps</td>\n",
              "      <td>Yes</td>\n",
              "      <td>Yes</td>\n",
              "      <td>2015  March</td>\n",
              "      <td>...</td>\n",
              "      <td>Wi-Fi 802.11 a/b/g/n| dual-band| WiFi Direct| ...</td>\n",
              "      <td>4.1| A2DP</td>\n",
              "      <td>Yes with A-GPS GLONASS</td>\n",
              "      <td>None</td>\n",
              "      <td>No</td>\n",
              "      <td>microUSB 2.0</td>\n",
              "      <td>Accelerometer</td>\n",
              "      <td>Non-removable Li-Ion 6000 mAh battery</td>\n",
              "      <td>Smoky Titanium| Smoky Blue| White</td>\n",
              "      <td>250</td>\n",
              "    </tr>\n",
              "    <tr>\n",
              "      <th>...</th>\n",
              "      <td>...</td>\n",
              "      <td>...</td>\n",
              "      <td>...</td>\n",
              "      <td>...</td>\n",
              "      <td>...</td>\n",
              "      <td>...</td>\n",
              "      <td>...</td>\n",
              "      <td>...</td>\n",
              "      <td>...</td>\n",
              "      <td>...</td>\n",
              "      <td>...</td>\n",
              "      <td>...</td>\n",
              "      <td>...</td>\n",
              "      <td>...</td>\n",
              "      <td>...</td>\n",
              "      <td>...</td>\n",
              "      <td>...</td>\n",
              "      <td>...</td>\n",
              "      <td>...</td>\n",
              "      <td>...</td>\n",
              "      <td>...</td>\n",
              "    </tr>\n",
              "    <tr>\n",
              "      <th>8626</th>\n",
              "      <td>Sagem</td>\n",
              "      <td>MC 950</td>\n",
              "      <td>GSM</td>\n",
              "      <td>GSM 900 / 1800</td>\n",
              "      <td>None</td>\n",
              "      <td>None</td>\n",
              "      <td>None</td>\n",
              "      <td>No</td>\n",
              "      <td>No</td>\n",
              "      <td>2000</td>\n",
              "      <td>...</td>\n",
              "      <td>No</td>\n",
              "      <td>No</td>\n",
              "      <td>None</td>\n",
              "      <td>No</td>\n",
              "      <td>None</td>\n",
              "      <td>None</td>\n",
              "      <td>Removable Li-Ion battery</td>\n",
              "      <td>None</td>\n",
              "      <td>None</td>\n",
              "      <td>http://cdn2.gsmarena.com/vv/bigpic/samc950b.gif</td>\n",
              "    </tr>\n",
              "    <tr>\n",
              "      <th>8627</th>\n",
              "      <td>Sagem</td>\n",
              "      <td>MC 959</td>\n",
              "      <td>GSM</td>\n",
              "      <td>GSM 900 / 1800</td>\n",
              "      <td>None</td>\n",
              "      <td>None</td>\n",
              "      <td>None</td>\n",
              "      <td>No</td>\n",
              "      <td>No</td>\n",
              "      <td>2000</td>\n",
              "      <td>...</td>\n",
              "      <td>No</td>\n",
              "      <td>No</td>\n",
              "      <td>None</td>\n",
              "      <td>No</td>\n",
              "      <td>None</td>\n",
              "      <td>None</td>\n",
              "      <td>Removable Li-Ion battery</td>\n",
              "      <td>None</td>\n",
              "      <td>None</td>\n",
              "      <td>http://cdn2.gsmarena.com/vv/bigpic/samc959b.gif</td>\n",
              "    </tr>\n",
              "    <tr>\n",
              "      <th>8628</th>\n",
              "      <td>Sagem</td>\n",
              "      <td>MC 940</td>\n",
              "      <td>GSM</td>\n",
              "      <td>GSM 900 / 1800</td>\n",
              "      <td>None</td>\n",
              "      <td>None</td>\n",
              "      <td>None</td>\n",
              "      <td>No</td>\n",
              "      <td>No</td>\n",
              "      <td>2000</td>\n",
              "      <td>...</td>\n",
              "      <td>No</td>\n",
              "      <td>No</td>\n",
              "      <td>None</td>\n",
              "      <td>No</td>\n",
              "      <td>None</td>\n",
              "      <td>None</td>\n",
              "      <td>Removable Li-Ion battery</td>\n",
              "      <td>None</td>\n",
              "      <td>None</td>\n",
              "      <td>http://cdn2.gsmarena.com/vv/bigpic/samc940b.gif</td>\n",
              "    </tr>\n",
              "    <tr>\n",
              "      <th>8629</th>\n",
              "      <td>Sagem</td>\n",
              "      <td>MC 932</td>\n",
              "      <td>GSM</td>\n",
              "      <td>GSM 900 / 1800</td>\n",
              "      <td>None</td>\n",
              "      <td>None</td>\n",
              "      <td>None</td>\n",
              "      <td>No</td>\n",
              "      <td>No</td>\n",
              "      <td>1999</td>\n",
              "      <td>...</td>\n",
              "      <td>No</td>\n",
              "      <td>No</td>\n",
              "      <td>None</td>\n",
              "      <td>No</td>\n",
              "      <td>None</td>\n",
              "      <td>None</td>\n",
              "      <td>Removable Li-Ion battery</td>\n",
              "      <td>None</td>\n",
              "      <td>None</td>\n",
              "      <td>http://cdn2.gsmarena.com/vv/bigpic/samc932b.gif</td>\n",
              "    </tr>\n",
              "    <tr>\n",
              "      <th>8630</th>\n",
              "      <td>Sagem</td>\n",
              "      <td>MC 850</td>\n",
              "      <td>GSM</td>\n",
              "      <td>GSM 900 / 1800</td>\n",
              "      <td>None</td>\n",
              "      <td>None</td>\n",
              "      <td>None</td>\n",
              "      <td>No</td>\n",
              "      <td>No</td>\n",
              "      <td>1998</td>\n",
              "      <td>...</td>\n",
              "      <td>No</td>\n",
              "      <td>No</td>\n",
              "      <td>None</td>\n",
              "      <td>No</td>\n",
              "      <td>None</td>\n",
              "      <td>None</td>\n",
              "      <td>Removable Li-Ion battery</td>\n",
              "      <td>None</td>\n",
              "      <td>None</td>\n",
              "      <td>http://cdn2.gsmarena.com/vv/bigpic/samc850b.gif</td>\n",
              "    </tr>\n",
              "  </tbody>\n",
              "</table>\n",
              "<p>8631 rows × 40 columns</p>\n",
              "</div>"
            ],
            "text/plain": [
              "        brand                  model network_technology  \\\n",
              "0        Asus  Google Nexus 7 (2013)   GSM / HSPA / LTE   \n",
              "1         HTC           10 Lifestyle   GSM / HSPA / LTE   \n",
              "2         HTC                     10   GSM / HSPA / LTE   \n",
              "3     OnePlus                    One   GSM / HSPA / LTE   \n",
              "4     Samsung       Galaxy Tab A 9.7   GSM / HSPA / LTE   \n",
              "...       ...                    ...                ...   \n",
              "8626    Sagem                 MC 950                GSM   \n",
              "8627    Sagem                 MC 959                GSM   \n",
              "8628    Sagem                 MC 940                GSM   \n",
              "8629    Sagem                 MC 932                GSM   \n",
              "8630    Sagem                 MC 850                GSM   \n",
              "\n",
              "                                        2G_bands  \\\n",
              "0     GSM 850 / 900 / 1800 / 1900 - all versions   \n",
              "1                   GSM 850 / 900 / 1800 / 1900    \n",
              "2                   GSM 850 / 900 / 1800 / 1900    \n",
              "3                   GSM 850 / 900 / 1800 / 1900    \n",
              "4                   GSM 850 / 900 / 1800 / 1900    \n",
              "...                                          ...   \n",
              "8626                             GSM 900 / 1800    \n",
              "8627                             GSM 900 / 1800    \n",
              "8628                             GSM 900 / 1800    \n",
              "8629                             GSM 900 / 1800    \n",
              "8630                             GSM 900 / 1800    \n",
              "\n",
              "                                   3G_bands  \\\n",
              "0     HSDPA 850 / 900 / 1700 / 1900 / 2100    \n",
              "1            HSDPA 850 / 900 / 1900 / 2100    \n",
              "2            HSDPA 850 / 900 / 1900 / 2100    \n",
              "3     HSDPA 850 / 900 / 1700 / 1900 / 2100    \n",
              "4            HSDPA 850 / 900 / 1900 / 2100    \n",
              "...                                     ...   \n",
              "8626                                   None   \n",
              "8627                                   None   \n",
              "8628                                   None   \n",
              "8629                                   None   \n",
              "8630                                   None   \n",
              "\n",
              "                                               4G_bands  \\\n",
              "0     LTE band 1(2100)| 2(1900)| 3(1800)| 4(1700/210...   \n",
              "1     LTE band 1(2100)| 3(1800)| 5(850)| 7(2600)| 8(...   \n",
              "2     LTE band 1(2100)| 3(1800)| 5(850)| 7(2600)| 8(...   \n",
              "3     LTE band 1(2100)| 3(1800)| 4(1700/2100)| 7(260...   \n",
              "4     LTE band 1(2100)| 3(1800)| 5(850)| 7(2600)| 8(...   \n",
              "...                                                 ...   \n",
              "8626                                               None   \n",
              "8627                                               None   \n",
              "8628                                               None   \n",
              "8629                                               None   \n",
              "8630                                               None   \n",
              "\n",
              "                                  network_speed GPRS EDGE    announced  ...  \\\n",
              "0                                     HSPA  LTE  Yes  Yes   2013  July  ...   \n",
              "1                    HSPA  LTE Cat6 300/50 Mbps  Yes  Yes  2016  April  ...   \n",
              "2            HSPA  LTE-A (3CA) Cat9 450/50 Mbps  Yes  Yes  2016  April  ...   \n",
              "3     HSPA 42.2/5.76 Mbps  LTE Cat4 150/50 Mbps  Yes  Yes  2014  April  ...   \n",
              "4                    HSPA  LTE Cat4 150/50 Mbps  Yes  Yes  2015  March  ...   \n",
              "...                                         ...  ...  ...          ...  ...   \n",
              "8626                                       None   No   No         2000  ...   \n",
              "8627                                       None   No   No         2000  ...   \n",
              "8628                                       None   No   No         2000  ...   \n",
              "8629                                       None   No   No         1999  ...   \n",
              "8630                                       None   No   No         1998  ...   \n",
              "\n",
              "                                              bluetooth  \\\n",
              "0                       Wi-Fi 802.11 a/b/g/n| dual-band   \n",
              "1                                       4.2| A2DP| aptX   \n",
              "2                                       4.2| A2DP| aptX   \n",
              "3                                             4.1| A2DP   \n",
              "4     Wi-Fi 802.11 a/b/g/n| dual-band| WiFi Direct| ...   \n",
              "...                                                 ...   \n",
              "8626                                                 No   \n",
              "8627                                                 No   \n",
              "8628                                                 No   \n",
              "8629                                                 No   \n",
              "8630                                                 No   \n",
              "\n",
              "                                                 GPS                     NFC  \\\n",
              "0                                      4.0| A2DP| LE          Yes with A-GPS   \n",
              "1     Yes with A-GPS GLONASS/ BDS (region dependent)                     Yes   \n",
              "2     Yes with A-GPS GLONASS/ BDS (region dependent)                     Yes   \n",
              "3                             Yes with A-GPS GLONASS                     Yes   \n",
              "4                                          4.1| A2DP  Yes with A-GPS GLONASS   \n",
              "...                                              ...                     ...   \n",
              "8626                                              No                    None   \n",
              "8627                                              No                    None   \n",
              "8628                                              No                    None   \n",
              "8629                                              No                    None   \n",
              "8630                                              No                    None   \n",
              "\n",
              "     radio                                   USB  \\\n",
              "0      Yes                                    No   \n",
              "1       No  2.0| Type-C 1.0 reversible connector   \n",
              "2       No  3.1| Type-C 1.0 reversible connector   \n",
              "3       No                microUSB 2.0| USB Host   \n",
              "4     None                                    No   \n",
              "...    ...                                   ...   \n",
              "8626    No                                  None   \n",
              "8627    No                                  None   \n",
              "8628    No                                  None   \n",
              "8629    No                                  None   \n",
              "8630    No                                  None   \n",
              "\n",
              "                                                sensors  \\\n",
              "0                               microUSB 2.0 (SlimPort)   \n",
              "1     Fingerprint (front-mounted)| accelerometer| gy...   \n",
              "2     Fingerprint (front-mounted)| accelerometer| gy...   \n",
              "3               Accelerometer| gyro| proximity| compass   \n",
              "4                                          microUSB 2.0   \n",
              "...                                                 ...   \n",
              "8626                                               None   \n",
              "8627                                               None   \n",
              "8628                                               None   \n",
              "8629                                               None   \n",
              "8630                                               None   \n",
              "\n",
              "                                      battery  \\\n",
              "0     Accelerometer| gyro| proximity| compass   \n",
              "1       Non-removable Li-Ion 3000 mAh battery   \n",
              "2       Non-removable Li-Ion 3000 mAh battery   \n",
              "3        Non-removable Li-Po 3100 mAh battery   \n",
              "4                               Accelerometer   \n",
              "...                                       ...   \n",
              "8626                 Removable Li-Ion battery   \n",
              "8627                 Removable Li-Ion battery   \n",
              "8628                 Removable Li-Ion battery   \n",
              "8629                 Removable Li-Ion battery   \n",
              "8630                 Removable Li-Ion battery   \n",
              "\n",
              "                                                 colors  \\\n",
              "0                 Non-removable Li-Ion 3950 mAh battery   \n",
              "1               Carbon Gray| Topaz Gold| Glacier Silver   \n",
              "2     Carbon Gray| Topaz Gold| Glacier Silver| Camel...   \n",
              "3                           Silk White| Sandstone Black   \n",
              "4                 Non-removable Li-Ion 6000 mAh battery   \n",
              "...                                                 ...   \n",
              "8626                                               None   \n",
              "8627                                               None   \n",
              "8628                                               None   \n",
              "8629                                               None   \n",
              "8630                                               None   \n",
              "\n",
              "                       approx_price_EUR  \\\n",
              "0                                 Black   \n",
              "1                                   420   \n",
              "2                                   500   \n",
              "3                                   250   \n",
              "4     Smoky Titanium| Smoky Blue| White   \n",
              "...                                 ...   \n",
              "8626                               None   \n",
              "8627                               None   \n",
              "8628                               None   \n",
              "8629                               None   \n",
              "8630                               None   \n",
              "\n",
              "                                                img_url  \n",
              "0                                                   230  \n",
              "1     http://cdn2.gsmarena.com/vv/bigpic/htc-10-life...  \n",
              "2       http://cdn2.gsmarena.com/vv/bigpic/htc-10-r.jpg  \n",
              "3     http://cdn2.gsmarena.com/vv/bigpic/oneplus-one...  \n",
              "4                                                   250  \n",
              "...                                                 ...  \n",
              "8626    http://cdn2.gsmarena.com/vv/bigpic/samc950b.gif  \n",
              "8627    http://cdn2.gsmarena.com/vv/bigpic/samc959b.gif  \n",
              "8628    http://cdn2.gsmarena.com/vv/bigpic/samc940b.gif  \n",
              "8629    http://cdn2.gsmarena.com/vv/bigpic/samc932b.gif  \n",
              "8630    http://cdn2.gsmarena.com/vv/bigpic/samc850b.gif  \n",
              "\n",
              "[8631 rows x 40 columns]"
            ]
          },
          "execution_count": 11,
          "metadata": {},
          "output_type": "execute_result"
        }
      ],
      "source": [
        "tbl_asset.to_pandas_dataframe()"
      ]
    }
  ],
  "metadata": {
    "kernel_info": {
      "name": "python310-sdkv2"
    },
    "kernelspec": {
      "display_name": "Python 3.10 - SDK v2",
      "language": "python",
      "name": "python310-sdkv2"
    },
    "language_info": {
      "codemirror_mode": {
        "name": "ipython",
        "version": 3
      },
      "file_extension": ".py",
      "mimetype": "text/x-python",
      "name": "python",
      "nbconvert_exporter": "python",
      "pygments_lexer": "ipython3",
      "version": "3.10.11"
    },
    "microsoft": {
      "host": {
        "AzureML": {
          "notebookHasBeenCompleted": true
        }
      },
      "ms_spell_check": {
        "ms_spell_check_language": "en"
      }
    },
    "nteract": {
      "version": "nteract-front-end@1.0.0"
    }
  },
  "nbformat": 4,
  "nbformat_minor": 2
}
